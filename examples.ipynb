{
 "cells": [
  {
   "cell_type": "code",
   "execution_count": 11,
   "metadata": {},
   "outputs": [],
   "source": [
    "import deezer_functions\n",
    "import spotify_functions\n",
    "import spotify_playcount_functions\n",
    "import utility_functions"
   ]
  },
  {
   "cell_type": "code",
   "execution_count": 12,
   "metadata": {},
   "outputs": [],
   "source": [
    "track_string = 'bla bla bla'"
   ]
  },
  {
   "cell_type": "code",
   "execution_count": 13,
   "metadata": {},
   "outputs": [
    {
     "name": "stdout",
     "output_type": "stream",
     "text": [
      "spotify track search\n",
      "{'track name': 'Don’t Blame Me', 'track type': 'track', 'track id': '1R0a2iXumgCiFb7HEZ7gUE', 'artist name': 'Taylor Swift', 'artist id': '06HL4z0CvFAxyc27GXpf02', 'album name': 'reputation', 'album id': '6DEjYFkNZh67HP7R9PSZvv', 'artist genres': ['pop']}\n"
     ]
    }
   ],
   "source": [
    "print('spotify track search')\n",
    "print(spotify_functions.return_track_details(track_string))"
   ]
  },
  {
   "cell_type": "code",
   "execution_count": 14,
   "metadata": {},
   "outputs": [
    {
     "name": "stdout",
     "output_type": "stream",
     "text": [
      "deezer track search\n",
      "{'track name': 'Bla Bla Bla', 'track type': 'track', 'track id': 61057255, 'artist name': \"Gigi D'Agostino\", 'artist id': 140, 'album name': \"Gigi D'agostino - The Essential Gigi D'Agostino (MP3 Album)\", 'album id': 5978184, 'album genres': ['Electro', 'Chill Out/Trip-Hop/Lounge']}\n"
     ]
    }
   ],
   "source": [
    "print('deezer track search')\n",
    "print(deezer_functions.return_track_details(track_string))"
   ]
  },
  {
   "cell_type": "code",
   "execution_count": 15,
   "metadata": {},
   "outputs": [
    {
     "name": "stdout",
     "output_type": "stream",
     "text": [
      "string search: la danza, result =  title : La Danza, artist name : John Summit, album title : La Danza, album id : 298096022, type : track, id : 1665823822, \n",
      "track id lookup: 395141722, result =  title : Odessa, album title : Swim, duration : 315, rank : 513901, bpm : 118.12, gain : -9.9, id : 395141722, \n",
      "album id lookup: 46371952, result =  title : Swim, artist name : Caribou, artist id : 3892, fans : 3140, id : 46371952, \n"
     ]
    }
   ],
   "source": [
    "''' deezer examples'''\n",
    "track = 'la danza'\n",
    "\n",
    "print('string search:',track,end=\", result =  \")\n",
    "track_data = deezer_functions.search(track)\n",
    "utility_functions.print_dict_keys(track_data[0],['title', ['artist', 'name'], [\n",
    "        'album', 'title'], ['album', 'id'], 'type', 'id'])\n",
    "\n",
    "track_id ='395141722'\n",
    "print('track id lookup:',track_id,end=\", result =  \")\n",
    "track_data = deezer_functions.track_lookup(track_id)\n",
    "utility_functions.print_dict_keys(track_data, ['title', ['album', 'title'],\n",
    "                'duration', 'rank', 'bpm', 'gain', 'id'])\n",
    "\n",
    "\n",
    "album_id = '46371952'\n",
    "print('album id lookup:',album_id,end=\", result =  \")\n",
    "album_data = deezer_functions.album_lookup(album_id)\n",
    "utility_functions.print_dict_keys(album_data, ['title', ['artist', 'name'], ['artist', 'id'],\n",
    "                'fans',  'id'])"
   ]
  }
 ],
 "metadata": {
  "kernelspec": {
   "display_name": "Python 3.7.1 64-bit",
   "language": "python",
   "name": "python3"
  },
  "language_info": {
   "codemirror_mode": {
    "name": "ipython",
    "version": 3
   },
   "file_extension": ".py",
   "mimetype": "text/x-python",
   "name": "python",
   "nbconvert_exporter": "python",
   "pygments_lexer": "ipython3",
   "version": "3.7.1"
  },
  "orig_nbformat": 4,
  "vscode": {
   "interpreter": {
    "hash": "e0d18222694ae8738dd36c3cc4ba4170ae1f6ee1d532a92ed91acf6f8484f87f"
   }
  }
 },
 "nbformat": 4,
 "nbformat_minor": 2
}
