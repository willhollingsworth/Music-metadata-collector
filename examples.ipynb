{
 "cells": [
  {
   "cell_type": "code",
   "execution_count": 1,
   "metadata": {},
   "outputs": [],
   "source": [
    "import deezer_functions\n",
    "import spotify_functions\n",
    "import spotify_playcount_functions\n",
    "import utility_functions"
   ]
  },
  {
   "cell_type": "code",
   "execution_count": 2,
   "metadata": {},
   "outputs": [
    {
     "name": "stdout",
     "output_type": "stream",
     "text": [
      "spotify track search\n",
      "{'track name': 'Don’t Blame Me', 'track type': 'track', 'track id': '1R0a2iXumgCiFb7HEZ7gUE', 'artist name': 'Taylor Swift', 'artist id': '06HL4z0CvFAxyc27GXpf02', 'album name': 'reputation', 'album id': '6DEjYFkNZh67HP7R9PSZvv', 'artist genres': ['pop']}\n"
     ]
    }
   ],
   "source": [
    "track_string = 'bla bla bla'\n",
    "print('spotify track search')\n",
    "print(spotify_functions.return_track_details(track_string))"
   ]
  },
  {
   "cell_type": "code",
   "execution_count": 12,
   "metadata": {},
   "outputs": [
    {
     "name": "stdout",
     "output_type": "stream",
     "text": [
      "string search for track: la danza\n",
      "track name : La Danza, track type : track, track id : 1665823822, artist name : John Summit, artist id : 12170972, album name : La Danza, album id : 298096022, album genres : ['Electro', 'Dance'], \n",
      "None\n",
      "track id lookup: 395141722, result =  title : Odessa, album title : Swim, duration : 315, rank : 530266, bpm : 118.12, gain : -9.9, id : 395141722, \n",
      "album id lookup: 46371952, result =  title : Swim, artist name : Caribou, artist id : 3892, fans : 3473, id : 46371952, \n"
     ]
    }
   ],
   "source": [
    "''' deezer examples'''\n",
    "track = 'la danza'\n",
    "\n",
    "print('string search for track:',track)\n",
    "track_data = deezer_functions.search(track)\n",
    "better_format = deezer_functions.format_track_details(track_data)\n",
    "print(utility_functions.print_dict_keys(better_format))\n",
    "\n",
    "track_id ='395141722'\n",
    "print('track id lookup:',track_id,end=\", result =  \")\n",
    "track_data = deezer_functions.track_lookup(track_id)\n",
    "utility_functions.print_dict_keys(track_data, ['title', ['album', 'title'],\n",
    "                'duration', 'rank', 'bpm', 'gain', 'id'])\n",
    "\n",
    "album_id = '46371952'\n",
    "print('album id lookup:',album_id,end=\", result =  \")\n",
    "album_data = deezer_functions.album_lookup(album_id)\n",
    "utility_functions.print_dict_keys(album_data, ['title', ['artist', 'name'], ['artist', 'id'],\n",
    "                'fans',  'id'])"
   ]
  }
 ],
 "metadata": {
  "kernelspec": {
   "display_name": "Python 3.7.1 64-bit",
   "language": "python",
   "name": "python3"
  },
  "language_info": {
   "codemirror_mode": {
    "name": "ipython",
    "version": 3
   },
   "file_extension": ".py",
   "mimetype": "text/x-python",
   "name": "python",
   "nbconvert_exporter": "python",
   "pygments_lexer": "ipython3",
   "version": "3.7.1"
  },
  "orig_nbformat": 4,
  "vscode": {
   "interpreter": {
    "hash": "e0d18222694ae8738dd36c3cc4ba4170ae1f6ee1d532a92ed91acf6f8484f87f"
   }
  }
 },
 "nbformat": 4,
 "nbformat_minor": 2
}
