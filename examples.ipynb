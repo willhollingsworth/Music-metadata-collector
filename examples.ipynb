{
 "cells": [
  {
   "cell_type": "code",
   "execution_count": 15,
   "metadata": {},
   "outputs": [],
   "source": [
    "import deezer_functions\n",
    "import spotify_functions\n",
    "import spotify_playcount_functions\n",
    "import utility_functions"
   ]
  },
  {
   "cell_type": "code",
   "execution_count": 16,
   "metadata": {},
   "outputs": [
    {
     "name": "stdout",
     "output_type": "stream",
     "text": [
      "spotify track search\n",
      "{'track name': 'Don’t Blame Me', 'track type': 'track', 'track id': '1R0a2iXumgCiFb7HEZ7gUE', 'artist name': 'Taylor Swift', 'artist id': '06HL4z0CvFAxyc27GXpf02', 'album name': 'reputation', 'album id': '6DEjYFkNZh67HP7R9PSZvv', 'artist genres': ['pop']}\n"
     ]
    }
   ],
   "source": [
    "track_string = 'bla bla bla'\n",
    "print('spotify track search')\n",
    "print(spotify_functions.return_track_details(track_string))"
   ]
  },
  {
   "cell_type": "code",
   "execution_count": 17,
   "metadata": {},
   "outputs": [
    {
     "name": "stdout",
     "output_type": "stream",
     "text": [
      "string search for track: la danza, result =  title : La Danza, artist name : John Summit, album title : La Danza, album id : 298096022, type : track, id : 1665823822, \n",
      "better formatting {'track name': 'La Danza', 'track type': 'track', 'track id': 1665823822, 'artist name': 'John Summit', 'artist id': 12170972, 'album name': 'La Danza', 'album id': 298096022, 'album genres': ['Electro', 'Dance']}\n"
     ]
    },
    {
     "ename": "TypeError",
     "evalue": "print_dict_keys() missing 1 required positional argument: 'keys'",
     "output_type": "error",
     "traceback": [
      "\u001b[1;31m---------------------------------------------------------------------------\u001b[0m",
      "\u001b[1;31mTypeError\u001b[0m                                 Traceback (most recent call last)",
      "\u001b[1;32m<ipython-input-17-8403db97db26>\u001b[0m in \u001b[0;36m<module>\u001b[1;34m\u001b[0m\n\u001b[0;32m      8\u001b[0m \u001b[0mbetter_format\u001b[0m \u001b[1;33m=\u001b[0m \u001b[0mdeezer_functions\u001b[0m\u001b[1;33m.\u001b[0m\u001b[0mformat_track_details\u001b[0m\u001b[1;33m(\u001b[0m\u001b[0mtrack_data\u001b[0m\u001b[1;33m)\u001b[0m\u001b[1;33m\u001b[0m\u001b[1;33m\u001b[0m\u001b[0m\n\u001b[0;32m      9\u001b[0m \u001b[0mprint\u001b[0m\u001b[1;33m(\u001b[0m\u001b[1;34m'better formatting'\u001b[0m\u001b[1;33m,\u001b[0m\u001b[0mbetter_format\u001b[0m\u001b[1;33m)\u001b[0m\u001b[1;33m\u001b[0m\u001b[1;33m\u001b[0m\u001b[0m\n\u001b[1;32m---> 10\u001b[1;33m \u001b[0mprint\u001b[0m\u001b[1;33m(\u001b[0m\u001b[1;34m'better formatting'\u001b[0m\u001b[1;33m,\u001b[0m\u001b[0mutility_functions\u001b[0m\u001b[1;33m.\u001b[0m\u001b[0mprint_dict_keys\u001b[0m\u001b[1;33m(\u001b[0m\u001b[0mbetter_format\u001b[0m\u001b[1;33m)\u001b[0m\u001b[1;33m)\u001b[0m\u001b[1;33m\u001b[0m\u001b[1;33m\u001b[0m\u001b[0m\n\u001b[0m\u001b[0;32m     11\u001b[0m \u001b[1;33m\u001b[0m\u001b[0m\n\u001b[0;32m     12\u001b[0m \u001b[0mtrack_id\u001b[0m \u001b[1;33m=\u001b[0m\u001b[1;34m'395141722'\u001b[0m\u001b[1;33m\u001b[0m\u001b[1;33m\u001b[0m\u001b[0m\n",
      "\u001b[1;31mTypeError\u001b[0m: print_dict_keys() missing 1 required positional argument: 'keys'"
     ]
    }
   ],
   "source": [
    "''' deezer examples'''\n",
    "track = 'la danza'\n",
    "\n",
    "print('string search for track:',track,end=\", result =  \")\n",
    "track_data = deezer_functions.search(track)\n",
    "utility_functions.print_dict_keys(track_data[0],['title', ['artist', 'name'], [\n",
    "        'album', 'title'], ['album', 'id'], 'type', 'id'])\n",
    "better_format = deezer_functions.format_track_details(track_data)\n",
    "print('better formatting',better_format)\n",
    "print('better formatting',utility_functions.print_dict_keys(better_format))\n",
    "\n",
    "track_id ='395141722'\n",
    "print('track id lookup:',track_id,end=\", result =  \")\n",
    "track_data = deezer_functions.track_lookup(track_id)\n",
    "utility_functions.print_dict_keys(track_data, ['title', ['album', 'title'],\n",
    "                'duration', 'rank', 'bpm', 'gain', 'id'])\n",
    "\n",
    "album_id = '46371952'\n",
    "print('album id lookup:',album_id,end=\", result =  \")\n",
    "album_data = deezer_functions.album_lookup(album_id)\n",
    "utility_functions.print_dict_keys(album_data, ['title', ['artist', 'name'], ['artist', 'id'],\n",
    "                'fans',  'id'])"
   ]
  }
 ],
 "metadata": {
  "kernelspec": {
   "display_name": "Python 3.7.1 64-bit",
   "language": "python",
   "name": "python3"
  },
  "language_info": {
   "codemirror_mode": {
    "name": "ipython",
    "version": 3
   },
   "file_extension": ".py",
   "mimetype": "text/x-python",
   "name": "python",
   "nbconvert_exporter": "python",
   "pygments_lexer": "ipython3",
   "version": "3.7.1"
  },
  "orig_nbformat": 4,
  "vscode": {
   "interpreter": {
    "hash": "e0d18222694ae8738dd36c3cc4ba4170ae1f6ee1d532a92ed91acf6f8484f87f"
   }
  }
 },
 "nbformat": 4,
 "nbformat_minor": 2
}
