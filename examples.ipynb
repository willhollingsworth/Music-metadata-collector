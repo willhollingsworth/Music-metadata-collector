{
 "cells": [
  {
   "cell_type": "code",
   "execution_count": 21,
   "metadata": {},
   "outputs": [],
   "source": [
    "import deezer_functions\n",
    "import spotify_functions\n",
    "import spotify_playcount_functions\n",
    "import utility_functions"
   ]
  },
  {
   "cell_type": "code",
   "execution_count": 22,
   "metadata": {},
   "outputs": [],
   "source": [
    "track_search_string = 'la danza'"
   ]
  },
  {
   "cell_type": "code",
   "execution_count": 23,
   "metadata": {},
   "outputs": [
    {
     "name": "stdout",
     "output_type": "stream",
     "text": [
      "spotify string track search: la danza\n",
      "name,type,id = La Danza track 2FEUloDXMvRnyfLcsrCfkw\n"
     ]
    }
   ],
   "source": [
    "print('spotify string track search:',track_search_string)\n",
    "st_results = spotify_functions.search_tracks(track_search_string)\n",
    "print('name,type,id =',st_results['name'],st_results['type'],st_results['id'])"
   ]
  },
  {
   "cell_type": "code",
   "execution_count": 24,
   "metadata": {},
   "outputs": [
    {
     "name": "stdout",
     "output_type": "stream",
     "text": [
      "spotify track id lookup 2FEUloDXMvRnyfLcsrCfkw\n",
      "name,artist,populairty = La Danza - John Summit 72\n"
     ]
    }
   ],
   "source": [
    "print('spotify track id lookup',st_results['id'])\n",
    "tl_results = spotify_functions.track_lookup(st_results['id'])\n",
    "print('name,artist,populairty =',tl_results['name'], '-', tl_results['artists'][0]['name'], tl_results['popularity'])"
   ]
  },
  {
   "cell_type": "code",
   "execution_count": 25,
   "metadata": {},
   "outputs": [],
   "source": [
    "\n",
    "\n",
    "# '''spotify examples'''\n",
    "# print('artist example')\n",
    "# artists = spotify_functions.spotify_download_data('artists', '3tSvlEzeDnVbQJBTkIA6nO')\n",
    "# utility_functions.print_dict_keys(\n",
    "#     artists, ['name', ['followers', 'total'], 'genres'])\n",
    "\n",
    "# print('album example')\n",
    "# albums = spotify_functions.spotify_download_data('albums', '392RA8UhAIoBzpbn3bPy3Q')\n",
    "# utility_functions.print_dict_keys(\n",
    "#     albums, ['name', 'genres', 'uri'])\n",
    "\n",
    "# print('track example')\n",
    "# track = spotify_functions.spotify_download_data('tracks', '6xZZM6GDxTKsLjF3TNDREL')\n",
    "# print(track['name'], '-', track['artists'][0]['name'], track['popularity'])\n",
    "\n",
    "# print('search artist example')\n",
    "# search_artist = spotify_functions.spotify_download_data('search_artist', 'artist:pendulum')\n",
    "# print('show first 5 results - columns: name,followers,popularity,genres')\n",
    "# for x in search_artist['artists']['items'][:5]:\n",
    "#     print(x['name'], x['followers']['total'], x['popularity'], x['genres'])"
   ]
  },
  {
   "cell_type": "code",
   "execution_count": 26,
   "metadata": {},
   "outputs": [
    {
     "name": "stdout",
     "output_type": "stream",
     "text": [
      "string search: la danza, result =  title : La Danza, artist name : John Summit, album title : La Danza, album id : 298096022, type : track, id : 1665823822, \n",
      "track id lookup: 395141722, result =  title : Odessa, album title : Swim, duration : 315, rank : 513901, bpm : 118.12, gain : -9.9, id : 395141722, \n",
      "album id lookup: 46371952, result =  title : Swim, artist name : Caribou, artist id : 3892, fans : 3135, id : 46371952, \n"
     ]
    }
   ],
   "source": [
    "''' deezer examples'''\n",
    "track = 'la danza'\n",
    "\n",
    "print('string search:',track,end=\", result =  \")\n",
    "track_data = deezer_functions.search(track)\n",
    "utility_functions.print_dict_keys(track_data[0],['title', ['artist', 'name'], [\n",
    "        'album', 'title'], ['album', 'id'], 'type', 'id'])\n",
    "\n",
    "track_id ='395141722'\n",
    "print('track id lookup:',track_id,end=\", result =  \")\n",
    "track_data = deezer_functions.track_lookup(track_id)\n",
    "utility_functions.print_dict_keys(track_data, ['title', ['album', 'title'],\n",
    "                'duration', 'rank', 'bpm', 'gain', 'id'])\n",
    "\n",
    "\n",
    "album_id = '46371952'\n",
    "print('album id lookup:',album_id,end=\", result =  \")\n",
    "album_data = deezer_functions.album_lookup(album_id)\n",
    "utility_functions.print_dict_keys(album_data, ['title', ['artist', 'name'], ['artist', 'id'],\n",
    "                'fans',  'id'])"
   ]
  }
 ],
 "metadata": {
  "kernelspec": {
   "display_name": "Python 3.7.1 64-bit",
   "language": "python",
   "name": "python3"
  },
  "language_info": {
   "codemirror_mode": {
    "name": "ipython",
    "version": 3
   },
   "file_extension": ".py",
   "mimetype": "text/x-python",
   "name": "python",
   "nbconvert_exporter": "python",
   "pygments_lexer": "ipython3",
   "version": "3.7.1"
  },
  "orig_nbformat": 4,
  "vscode": {
   "interpreter": {
    "hash": "e0d18222694ae8738dd36c3cc4ba4170ae1f6ee1d532a92ed91acf6f8484f87f"
   }
  }
 },
 "nbformat": 4,
 "nbformat_minor": 2
}
