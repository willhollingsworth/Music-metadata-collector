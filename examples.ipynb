{
 "cells": [
  {
   "cell_type": "code",
   "execution_count": 1,
   "metadata": {},
   "outputs": [],
   "source": [
    "import deezer_functions\n",
    "import spotify_functions\n",
    "import spotify_playcount_functions\n",
    "import utility_functions"
   ]
  },
  {
   "cell_type": "code",
   "execution_count": 2,
   "metadata": {},
   "outputs": [
    {
     "name": "stdout",
     "output_type": "stream",
     "text": [
      "details of current playing song\n",
      "name : Sailing, artists-0-name : French 79, album-name : Joshua, id : 3ZzYXz6Rw0aWOkfOneBo2X, \n",
      "name : French 79, followers-total : 176519, genres : ['french indie pop', 'french indietronica'], \n",
      "artist lookup with id 3tSvlEzeDnVbQJBTkIA6nO: name : Christian Löffler, followers-total : 245155, genres : ['electronica', 'hamburg electronic', 'organic electronic', 'pop ambient'], \n",
      "album lookup with id 2dIGnmEIy1WZIcZCFSj6i8: name : Plastic Beach, genres : [], uri : spotify:album:2dIGnmEIy1WZIcZCFSj6i8, \n",
      "track lookup 6xZZM6GDxTKsLjF3TNDREL: name : Mt. Grace, artists-0-name : Christian Löffler, popularity : 38, \n",
      "artist search with string \" pendulum \" : name : Pendulum, followers-total : 903711, popularity : 60, genres : ['australian dance', 'dancefloor dnb', 'drum and bass'], \n"
     ]
    }
   ],
   "source": [
    "# spotify\n",
    "print('details of current playing song')\n",
    "spotify_functions.current_playing_detailed(print_results=True)\n",
    "\n",
    "# lookups\n",
    "artist_id = '3tSvlEzeDnVbQJBTkIA6nO'\n",
    "print('artist lookup with id', artist_id, end=\": \")\n",
    "spotify_functions.artist_lookup(artist_id,print_results=True)\n",
    "\n",
    "album_id = '2dIGnmEIy1WZIcZCFSj6i8'\n",
    "print('album lookup with id',album_id, end=\": \")\n",
    "spotify_functions.album_lookup(album_id,print_results=True)\n",
    "\n",
    "track_id = '6xZZM6GDxTKsLjF3TNDREL'\n",
    "print('track lookup', track_id, end=\": \")\n",
    "spotify_functions.track_lookup(track_id,print_results=True) \n",
    "# print(track['name'], '-', track['artists'][0]['name'], track['popularity'])\n",
    "\n",
    "# #searches\n",
    "artist_string = 'pendulum'\n",
    "print('artist search with string \\\"',artist_string,'\"', end=\" : \")\n",
    "first_result = spotify_functions.search_artists(artist_string,print_results=True)['artists']['items'][0]\n"
   ]
  },
  {
   "cell_type": "code",
   "execution_count": 3,
   "metadata": {},
   "outputs": [
    {
     "name": "stdout",
     "output_type": "stream",
     "text": [
      "string search for track: la danza, result =  track name : La Danza, track type : track, track id : 1665823822, artist name : John Summit, artist id : 12170972, album name : La Danza, album id : 298096022, album genres : ['Electro', 'Dance'], \n",
      "track id lookup: 395141722, result =  title : Odessa, album-title : Swim, duration : 315, rank : 530266, bpm : 118.12, gain : -9.9, id : 395141722, \n",
      "album id lookup: 46371952, result =  title : Swim, artist-name : Caribou, artist-id : 3892, fans : 3473, id : 46371952, \n"
     ]
    }
   ],
   "source": [
    "''' deezer examples'''\n",
    "track = 'la danza'\n",
    "\n",
    "print('string search for track:',track,end=\", result =  \")\n",
    "track_data = deezer_functions.search(track)\n",
    "better_format = deezer_functions.format_track_details(track_data)\n",
    "utility_functions.print_dict_keys(better_format)\n",
    "\n",
    "track_id ='395141722'\n",
    "print('track id lookup:',track_id,end=\", result =  \")\n",
    "track_data = deezer_functions.track_lookup(track_id)\n",
    "utility_functions.print_dict_keys(track_data, ['title', ['album', 'title'],\n",
    "                'duration', 'rank', 'bpm', 'gain', 'id'])\n",
    "\n",
    "album_id = '46371952'\n",
    "print('album id lookup:',album_id,end=\", result =  \")\n",
    "album_data = deezer_functions.album_lookup(album_id)\n",
    "utility_functions.print_dict_keys(album_data, ['title', ['artist', 'name'], ['artist', 'id'],\n",
    "                'fans',  'id'])"
   ]
  }
 ],
 "metadata": {
  "kernelspec": {
   "display_name": "Python 3.7.1 64-bit",
   "language": "python",
   "name": "python3"
  },
  "language_info": {
   "codemirror_mode": {
    "name": "ipython",
    "version": 3
   },
   "file_extension": ".py",
   "mimetype": "text/x-python",
   "name": "python",
   "nbconvert_exporter": "python",
   "pygments_lexer": "ipython3",
   "version": "3.9.0"
  },
  "orig_nbformat": 4,
  "vscode": {
   "interpreter": {
    "hash": "e0d18222694ae8738dd36c3cc4ba4170ae1f6ee1d532a92ed91acf6f8484f87f"
   }
  }
 },
 "nbformat": 4,
 "nbformat_minor": 2
}
