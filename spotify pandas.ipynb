{
 "cells": [
  {
   "cell_type": "code",
   "execution_count": 1,
   "metadata": {},
   "outputs": [],
   "source": [
    "import requests\n",
    "import pandas as pd\n",
    "public_url = 'https://api.t4ils.dev/'"
   ]
  },
  {
   "cell_type": "code",
   "execution_count": 2,
   "metadata": {},
   "outputs": [],
   "source": [
    "artist_id = '4aEnNH9PuU1HF3TsZTru54' # Caribou\n",
    "url = public_url + 'artistInfo?artistid=' + artist_id\n",
    "r = requests.get(url)\n",
    "r = r.json()"
   ]
  },
  {
   "cell_type": "code",
   "execution_count": null,
   "metadata": {},
   "outputs": [],
   "source": [
    "def grab_tracks_from_album(album_id):\n",
    "    return\n"
   ]
  },
  {
   "cell_type": "code",
   "execution_count": 17,
   "metadata": {},
   "outputs": [
    {
     "name": "stdout",
     "output_type": "stream",
     "text": [
      "Suddenly Remixes : dict_keys(['uri', 'name', 'cover', 'year', 'track_count', 'discs', 'month', 'day'])\n",
      "Suddenly : dict_keys(['uri', 'name', 'cover', 'year', 'track_count', 'discs', 'month', 'day'])\n",
      "Our Love (Expanded Edition) : dict_keys(['uri', 'name', 'cover', 'year', 'track_count', 'discs', 'month', 'day'])\n",
      "Swim Remixes : dict_keys(['uri', 'name', 'cover', 'year', 'track_count', 'discs', 'month', 'day'])\n",
      "Swim : dict_keys(['uri', 'name', 'cover', 'year', 'track_count', 'discs', 'month', 'day'])\n",
      "Andorra : dict_keys(['uri', 'name', 'cover', 'year', 'track_count', 'discs', 'month', 'day'])\n",
      "The Milk of Human Kindness : dict_keys(['uri', 'name', 'cover', 'year', 'track_count', 'discs', 'month', 'day'])\n",
      "Up In Flames (Special Edition) : dict_keys(['uri', 'name', 'cover', 'year', 'track_count', 'discs', 'month', 'day'])\n",
      "Start Breaking My Heart (Special Edition) : dict_keys(['uri', 'name', 'cover', 'year', 'track_count', 'month', 'day'])\n"
     ]
    },
    {
     "ename": "KeyError",
     "evalue": "'discs'",
     "output_type": "error",
     "traceback": [
      "\u001b[1;31m---------------------------------------------------------------------------\u001b[0m",
      "\u001b[1;31mKeyError\u001b[0m                                  Traceback (most recent call last)",
      "\u001b[1;32m<ipython-input-17-905ccc34629d>\u001b[0m in \u001b[0;36m<module>\u001b[1;34m\u001b[0m\n\u001b[0;32m      5\u001b[0m     \u001b[0mprint\u001b[0m\u001b[1;33m(\u001b[0m\u001b[0malbum\u001b[0m\u001b[1;33m[\u001b[0m\u001b[1;34m'name'\u001b[0m\u001b[1;33m]\u001b[0m\u001b[1;33m,\u001b[0m\u001b[1;34m': '\u001b[0m\u001b[1;33m,\u001b[0m \u001b[0mend\u001b[0m\u001b[1;33m=\u001b[0m\u001b[1;34m''\u001b[0m\u001b[1;33m)\u001b[0m\u001b[1;33m\u001b[0m\u001b[1;33m\u001b[0m\u001b[0m\n\u001b[0;32m      6\u001b[0m     \u001b[0mprint\u001b[0m\u001b[1;33m(\u001b[0m\u001b[0malbum\u001b[0m\u001b[1;33m.\u001b[0m\u001b[0mkeys\u001b[0m\u001b[1;33m(\u001b[0m\u001b[1;33m)\u001b[0m\u001b[1;33m)\u001b[0m\u001b[1;33m\u001b[0m\u001b[1;33m\u001b[0m\u001b[0m\n\u001b[1;32m----> 7\u001b[1;33m     \u001b[1;32mif\u001b[0m \u001b[0mlen\u001b[0m\u001b[1;33m(\u001b[0m\u001b[0malbum\u001b[0m\u001b[1;33m[\u001b[0m\u001b[1;34m'discs'\u001b[0m\u001b[1;33m]\u001b[0m\u001b[1;33m)\u001b[0m \u001b[1;33m==\u001b[0m \u001b[1;36m0\u001b[0m\u001b[1;33m:\u001b[0m\u001b[1;33m\u001b[0m\u001b[1;33m\u001b[0m\u001b[0m\n\u001b[0m\u001b[0;32m      8\u001b[0m         \u001b[0mprint\u001b[0m\u001b[1;33m(\u001b[0m\u001b[0malbum\u001b[0m\u001b[1;33m)\u001b[0m\u001b[1;33m\u001b[0m\u001b[1;33m\u001b[0m\u001b[0m\n\u001b[0;32m      9\u001b[0m         \u001b[1;32mcontinue\u001b[0m\u001b[1;33m\u001b[0m\u001b[1;33m\u001b[0m\u001b[0m\n",
      "\u001b[1;31mKeyError\u001b[0m: 'discs'"
     ]
    }
   ],
   "source": [
    "albums = r['data']['releases']\n",
    "full_albums = albums['albums']['releases']\n",
    "tracks_list = []\n",
    "for album in full_albums:\n",
    "    print(album['name'],': ', end='')\n",
    "    print(album.keys())\n",
    "    if len(album['discs']) == 0:\n",
    "        print(album)\n",
    "        continue\n",
    "    for disc in album['discs']:\n",
    "        for track in disc['tracks']:\n",
    "            tracks_list.append(track['name'])\n",
    "tracks_list"
   ]
  }
 ],
 "metadata": {
  "kernelspec": {
   "display_name": "Python 3.7.1 64-bit",
   "language": "python",
   "name": "python3"
  },
  "language_info": {
   "codemirror_mode": {
    "name": "ipython",
    "version": 3
   },
   "file_extension": ".py",
   "mimetype": "text/x-python",
   "name": "python",
   "nbconvert_exporter": "python",
   "pygments_lexer": "ipython3",
   "version": "3.7.1"
  },
  "orig_nbformat": 4,
  "vscode": {
   "interpreter": {
    "hash": "e0d18222694ae8738dd36c3cc4ba4170ae1f6ee1d532a92ed91acf6f8484f87f"
   }
  }
 },
 "nbformat": 4,
 "nbformat_minor": 2
}
