{
 "cells": [
  {
   "cell_type": "code",
   "execution_count": 33,
   "metadata": {},
   "outputs": [],
   "source": [
    "import requests\n",
    "import pandas as pd\n",
    "public_url = 'https://api.t4ils.dev/'"
   ]
  },
  {
   "cell_type": "code",
   "execution_count": 34,
   "metadata": {},
   "outputs": [],
   "source": [
    "artist_id = '4aEnNH9PuU1HF3TsZTru54' # Caribou\n",
    "url = public_url + 'artistInfo?artistid=' + artist_id\n",
    "r = requests.get(url)\n",
    "r = r.json()"
   ]
  },
  {
   "cell_type": "code",
   "execution_count": 35,
   "metadata": {},
   "outputs": [],
   "source": [
    "def grab_tracks_from_album(album_id):\n",
    "    # add caching to reduce api load + decrease repeated processing time\n",
    "    # save data locally\n",
    "    output_list = []\n",
    "    public_url = 'https://api.t4ils.dev/'\n",
    "    url = public_url + 'albumPlayCount?albumid=' + album_id\n",
    "    r = requests.get(url)\n",
    "    r = r.json()['data']\n",
    "    for disc in r['discs']:\n",
    "        for track in disc['tracks']:\n",
    "            output_list.append([track['name'],track['playcount']])\n",
    "    return output_list\n"
   ]
  },
  {
   "cell_type": "code",
   "execution_count": 38,
   "metadata": {},
   "outputs": [
    {
     "data": {
      "text/plain": [
       "[['Never Come Back - Koreless Remix', 715245],\n",
       " ['Never Come Back - Four Tet Remix', 1990277],\n",
       " ['Home - Toro y Moi Remix', 879182],\n",
       " [\"Sunny's Time - Logic1000 Remix\", 701169],\n",
       " ['Sister - Floating Points Remix', 1033502],\n",
       " ['Ravi - Shanti Celeste Remix', 571608],\n",
       " ['You and I - Jessy Lanza Mix', 100002],\n",
       " [\"Sunny's Time - Prince Nifty Saddle Up Mix\", 153038],\n",
       " ['Never Come Back - Floating Points Remix', 812023],\n",
       " ['Never Come Back - Morgan Geist Remix', 1438683],\n",
       " [\"Sunny's Time - Kareem Ali Remix\", 175369],\n",
       " ['Like I Loved You - India Jordan Remix', 177098]]"
      ]
     },
     "execution_count": 38,
     "metadata": {},
     "output_type": "execute_result"
    }
   ],
   "source": [
    "grab_tracks_from_album('4UrHb1pIbKLFev4nuxMFUY')"
   ]
  },
  {
   "cell_type": "code",
   "execution_count": 39,
   "metadata": {},
   "outputs": [
    {
     "name": "stdout",
     "output_type": "stream",
     "text": [
      "Suddenly Remixes [['Never Come Back - Koreless Remix', 715245], ['Never Come Back - Four Tet Remix', 1990277], ['Home - Toro y Moi Remix', 879182], [\"Sunny's Time - Logic1000 Remix\", 701169], ['Sister - Floating Points Remix', 1033502], ['Ravi - Shanti Celeste Remix', 571608], ['You and I - Jessy Lanza Mix', 100002], [\"Sunny's Time - Prince Nifty Saddle Up Mix\", 153038], ['Never Come Back - Floating Points Remix', 812023], ['Never Come Back - Morgan Geist Remix', 1438683], [\"Sunny's Time - Kareem Ali Remix\", 175369], ['Like I Loved You - India Jordan Remix', 177098]]\n",
      "Suddenly [['Sister', 2610867], ['You and I', 19106850], [\"Sunny's Time\", 2689086], ['New Jade', 4385757], ['Home', 31710289], ['Lime', 2505261], ['Never Come Back', 32970038], ['Filtered Grand Piano', 1739541], ['Like I Loved You', 7351859], ['Magpie', 2049953], ['Ravi', 2709019], ['Cloud Song', 1560196]]\n",
      "Our Love (Expanded Edition) [[\"Can't Do Without You\", 74175247], ['Silver', 20078667], ['All I Ever Need', 8772051], ['Our Love', 12204139], ['Dive', 4566793], ['Second Chance', 4340152], ['Julia Brightly', 4208046], ['Mars', 3545482], ['Back Home', 5674748], ['Your Love Will Set You Free', 3510185], [\"Can't Do Without You - Extended Mix\", 3369858], [\"Your Love Will Set You Free - c2's Set U Free RMX\", 5227157], ['Second Chance - Cyril Hahn Edit', 1247056], [\"Mars - Head High's Core Remix\", 718970], [\"Mars - Head High's Venus Remix\", 595237], ['Our Love - Daphni Mix', 973322], [\"Can't Do Without You - Tale of Us & Mano Le Tough Remix\", 7775310]]\n",
      "Swim Remixes [['Odessa - Junior Boys Mix', 831413], ['Leave House - Motor City Drum Ensemble Remix', 732416], [\"Sun - Altrice's 'Only What You Gave Me' Remix\", 912311], ['Jamelia - Gold Panda Remix', 525823], ['Bowls - Holden Remix', 392703], ['Kaili - Fuck Buttons Remix', 406178], ['Leave House - Ikonika Remix', 317591], ['Found Out - DJ Koze Remix', 298331], [\"Jamelia - DJ Koze's Alarmclock\", 392433], [\"Bowls - Gavin Russom's Rework\", 241381], ['Sun - patten Remix', 235781], [\"Odessa - David Wrench's Drumapella\", 242257], ['Odessa - Nite Jewel Remix', 255080], ['Kaili - Walls Remix', 229571]]\n",
      "Swim [['Odessa', 58350062], ['Sun', 13977754], ['Kaili', 4003143], ['Found Out', 4230210], ['Bowls', 3492265], ['Leave House', 4658021], ['Hannibal', 3018906], ['Lalibela', 2580207], ['Jamelia', 3740364]]\n",
      "Andorra [['Melody Day', 3481941], ['Sandy', 1091725], ['After Hours', 1030417], [\"She's the One\", 1018449], ['Desiree', 593519], ['Eli', 644615], ['Sundialing', 711445], ['Irene', 2445172], ['Niobe', 833497]]\n",
      "The Milk of Human Kindness [['Yeti', 1066650], ['Subotnick', 838940], ['A Final Warning', 639861], ['Lord Leopard', 881828], ['Bees', 31337085], ['Hands First', 2224], ['Hello Hammerheads', 3639487], ['Brahminy Kite', 533280], ['Drumheller', 532430], ['Pelican Narrows', 1770104], ['Barnowl', 1084291]]\n",
      "Up In Flames (Special Edition) [[\"I've Lived on a Dirt Road All My Life\", 387409], ['Skunks', 439139], ['Hendrix With Ko', 503383], ['Jacknuggeted', 452993], ['Why the Long Face', 181029], ['Bijoux', 226677], ['Twins', 186828], [\"Kid You'll Move Mountains\", 210276], ['Crayon', 940584], [\"Every Time She Turns Round It's Her Birthday\", 193945], ['Cherrybomb', 157455], ['Silver Splinters', 142723], ['Olé', 118916], ['Thistles and Felt', 160787], ['Seaweed', 170950], ['Cherrybomb, Pt. 2', 133034]]\n",
      "Start Breaking My Heart (Special Edition) [['Dundas, Ontario', 1503060], ['People Eating Fruit', 1234866], ['Mammals vs. Reptiles', 290215], ['Brandon', 643607], ['Children Play Well Together', 212203], ['Lemon Yoghourt', 264059], [\"James' Second Haircut\", 218010], ['Schedules and Fares', 208265], [\"Paul's Birthday\", 369695], ['Happy Ending', 217184], ['Victor and Carolyn', 174757], ['218 Beverly', 151397], ['Evan Likes Driving', 117358], ['Anna & Nina', 1714262], ['Dundas, Ontario - Remix', 126608], ['Tits & Ass: The Great Canadian Weekend', 208031], ['Webers', 123774], ['If Assholes Could Fly, This Place Would Be an Airport', 102779], ['Air Doom', 107838], ['Ach Who', 82374]]\n"
     ]
    }
   ],
   "source": [
    "albums = r['data']['releases']\n",
    "full_albums = albums['albums']['releases']\n",
    "tracks_list = []\n",
    "for album in full_albums:\n",
    "    album_uri = album['uri'].replace('spotify:album:','')\n",
    "    tracks = grab_tracks_from_album(album_uri)\n",
    "    print(album['name'],tracks)\n",
    "    # print(album['name'],album['uri'].replace('spotify:album:',''))\n",
    "    # track_list = tracks_list + (grab_tracks_from_album(album_uri))\n",
    "    # print(album.keys())\n",
    "    # if len(album['discs']) == 0:\n",
    "    #     print(album)\n",
    "    #     continue\n",
    "    # for disc in album['discs']:\n",
    "    #     for track in disc['tracks']:\n",
    "    #         tracks_list.append(track['name'])\n",
    "# tracks_list"
   ]
  }
 ],
 "metadata": {
  "kernelspec": {
   "display_name": "Python 3.7.1 64-bit",
   "language": "python",
   "name": "python3"
  },
  "language_info": {
   "codemirror_mode": {
    "name": "ipython",
    "version": 3
   },
   "file_extension": ".py",
   "mimetype": "text/x-python",
   "name": "python",
   "nbconvert_exporter": "python",
   "pygments_lexer": "ipython3",
   "version": "3.7.1"
  },
  "orig_nbformat": 4,
  "vscode": {
   "interpreter": {
    "hash": "e0d18222694ae8738dd36c3cc4ba4170ae1f6ee1d532a92ed91acf6f8484f87f"
   }
  }
 },
 "nbformat": 4,
 "nbformat_minor": 2
}
