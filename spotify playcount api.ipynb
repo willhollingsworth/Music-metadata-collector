{
 "cells": [
  {
   "cell_type": "markdown",
   "metadata": {},
   "source": [
    "Spotify's api doesn't show track play count,\n",
    "can use a third party api to get this info\n",
    "\n",
    "https://github.com/entriphy/sp-playcount-librespot\n",
    "\n",
    "it can be self hosted or accessed via  public url"
   ]
  },
  {
   "cell_type": "code",
   "execution_count": 114,
   "metadata": {},
   "outputs": [],
   "source": [
    "import requests\n",
    "public_url = 'https://api.t4ils.dev/'"
   ]
  },
  {
   "cell_type": "code",
   "execution_count": 120,
   "metadata": {},
   "outputs": [
    {
     "name": "stdout",
     "output_type": "stream",
     "text": [
      "tracks on album with playcount:  Myiami 2868671, Haul (feat. Mohna) 10171365, Mosaics 1933453, Neo 3359197, Youth 887441, Lid 3745136, Mare (feat. Mohna) 615642, Athlete 1209835, Vind (feat. Mohna) 1323982, Silk 1083152, Nil 3393220, Swim 951075, Krone 1267571, Pacific 813927, Pigment 656155, Wilderness (feat. Mohna) 3857207, The Great White Open 571185, \n",
      "album keys dict_keys(['uri', 'name', 'cover', 'year', 'track_count', 'discs', 'copyrights', 'artists', 'related', 'month', 'day', 'type', 'label'])\n",
      "track keys dict_keys(['uri', 'playcount', 'name', 'popularity', 'number', 'duration', 'explicit', 'playable', 'artists'])\n"
     ]
    }
   ],
   "source": [
    "''' album play count'''\n",
    "album_id= '392RA8UhAIoBzpbn3bPy3Q'\n",
    "url = public_url + 'albumPlayCount?albumid=' + album_id\n",
    "r = requests.get(url)\n",
    "\n",
    "discs = r.json()['data']['discs']\n",
    "if len(discs) == 1:\n",
    "    discs = discs[0]\n",
    "else:\n",
    "    print('multi disc album')\n",
    "tracks = discs['tracks']\n",
    "\n",
    "string =''\n",
    "for x in tracks:\n",
    "    string += x['name'] +' ' + str(x['playcount']) +', '\n",
    "print('tracks on album with playcount: ',string)\n",
    "print('album keys',r.json()['data'].keys())\n",
    "print('track keys',tracks[0].keys())\n"
   ]
  },
  {
   "cell_type": "code",
   "execution_count": 121,
   "metadata": {},
   "outputs": [
    {
     "name": "stdout",
     "output_type": "stream",
     "text": [
      "Christian Löffler\n",
      "top tracks ['Ronda 11372208', 'Unknown Song - Christian Löffler Remix 974049', 'Haul (feat. Mohna) 10171365', 'So Long - Christian Loeffler Remix 4018741', 'Versailles (Hold) - Edit 10587231', 'Haul - Radio Edit 18152290', 'Pastoral 7094848', 'Alpine Sketch 25295466', 'Solo - Solomun Remix 167469', 'Like Water (feat. Mohna) 10004112']\n",
      "related artists ['Recondite', 'Howling', 'Weval', 'Kiasmos', 'Max Cooper', 'Dominik Eulberg', 'Agoria', 'DAVID AUGUST', 'Rone', 'Gidge', 'Kollektiv Turmstrasse', 'HVOB', 'Moderat', 'Stereoclip', 'Rival Consoles', 'Apparat', 'Monkey Safari', 'Pantha Du Prince', 'trentemøller', 'Pional']\n",
      "top level keys - ['uri', 'info', 'header_image', 'top_tracks', 'upcoming_concerts', 'related_artists', 'biography', 'releases', 'gallery', 'latest_release', 'published_playlists', 'monthly_listeners', 'creator_about', 'pinned_item']\n"
     ]
    }
   ],
   "source": [
    "'''' artist info'''\n",
    "artist_id = '3tSvlEzeDnVbQJBTkIA6nO'\n",
    "url = public_url + 'artistInfo?artistid=' + artist_id\n",
    "r = requests.get(url)\n",
    "r = r.json()\n",
    "\n",
    "print(r['data']['info']['name'])\n",
    "top_tracks = list([x['name']+' '+str(x['playcount']) for x in r['data']['top_tracks']['tracks']])\n",
    "related_artists  = list([x['name'] for x in r['data']['related_artists']['artists']])\n",
    "print('top tracks',top_tracks)\n",
    "print('related artists',related_artists)\n",
    "print('top level keys -',list(r['data'].keys()))"
   ]
  },
  {
   "cell_type": "code",
   "execution_count": 123,
   "metadata": {},
   "outputs": [
    {
     "name": "stdout",
     "output_type": "stream",
     "text": [
      "Christian Löffler listeners: 1030105 , followers: 227889\n",
      "playlists ['Sommer Chillout', 'Coding Mode  ', 'Deep House Relax', 'Chill Tracks', 'Music For Concentration', 'Brain Food', 'Electronic Rising', 'Afterhours', 'Not Quite Classical', 'cloud gazing']\n",
      "top level keys ['artistGid', 'name', 'mainImageUrl', 'headerImage', 'autobiography', 'biography', 'images', 'imagesCount', 'globalChartPosition', 'monthlyListeners', 'monthlyListenersDelta', 'followerCount', 'followingCount', 'playlists', 'cities']\n"
     ]
    }
   ],
   "source": [
    "''' artist insight '''\n",
    "artist_id = '3tSvlEzeDnVbQJBTkIA6nO'\n",
    "url = public_url + 'artistInsights?artistid=' + artist_id\n",
    "r = requests.get(url)\n",
    "r = r.json()\n",
    "\n",
    "data = r['data']\n",
    "print(data['name'],'listeners:',data['monthlyListeners'],', followers:',data['followerCount'])\n",
    "playlists = list(x['name'] for x in data['playlists']['entries'])\n",
    "print('playlists',playlists)\n",
    "print('top level keys',list(r['data'].keys()))\n"
   ]
  }
 ],
 "metadata": {
  "kernelspec": {
   "display_name": "Python 3.7.1 64-bit",
   "language": "python",
   "name": "python3"
  },
  "language_info": {
   "codemirror_mode": {
    "name": "ipython",
    "version": 3
   },
   "file_extension": ".py",
   "mimetype": "text/x-python",
   "name": "python",
   "nbconvert_exporter": "python",
   "pygments_lexer": "ipython3",
   "version": "3.7.1"
  },
  "orig_nbformat": 4,
  "vscode": {
   "interpreter": {
    "hash": "e0d18222694ae8738dd36c3cc4ba4170ae1f6ee1d532a92ed91acf6f8484f87f"
   }
  }
 },
 "nbformat": 4,
 "nbformat_minor": 2
}
