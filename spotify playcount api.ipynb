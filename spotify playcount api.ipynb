{
 "cells": [
  {
   "cell_type": "markdown",
   "metadata": {},
   "source": [
    "Spotify's api doesn't show track play count,\n",
    "can use a third party api to get this info\n",
    "\n",
    "https://github.com/entriphy/sp-playcount-librespot\n",
    "\n",
    "it can be self hosted or accessed via  public url"
   ]
  },
  {
   "cell_type": "code",
   "execution_count": 2,
   "metadata": {},
   "outputs": [],
   "source": [
    "import requests\n",
    "public_url = 'https://api.t4ils.dev/'"
   ]
  },
  {
   "cell_type": "code",
   "execution_count": 3,
   "metadata": {},
   "outputs": [
    {
     "name": "stdout",
     "output_type": "stream",
     "text": [
      "tracks on album with playcount:  Myiami 2869627, Haul (feat. Mohna) 10179095, Mosaics 1933907, Neo 3360240, Youth 887868, Lid 3745950, Mare (feat. Mohna) 616007, Athlete 1210105, Vind (feat. Mohna) 1324233, Silk 1083433, Nil 3395238, Swim 951446, Krone 1268091, Pacific 814118, Pigment 656350, Wilderness (feat. Mohna) 3857807, The Great White Open 571333, \n",
      "album keys dict_keys(['uri', 'name', 'cover', 'year', 'track_count', 'discs', 'copyrights', 'artists', 'related', 'month', 'day', 'type', 'label'])\n",
      "track keys dict_keys(['uri', 'playcount', 'name', 'popularity', 'number', 'duration', 'explicit', 'playable', 'artists'])\n"
     ]
    }
   ],
   "source": [
    "''' album play count'''\n",
    "album_id= '392RA8UhAIoBzpbn3bPy3Q'\n",
    "url = public_url + 'albumPlayCount?albumid=' + album_id\n",
    "r = requests.get(url)\n",
    "\n",
    "discs = r.json()['data']['discs']\n",
    "if len(discs) == 1:\n",
    "    discs = discs[0]\n",
    "else:\n",
    "    print('multi disc album')\n",
    "tracks = discs['tracks']\n",
    "\n",
    "string =''\n",
    "for x in tracks:\n",
    "    string += x['name'] +' ' + str(x['playcount']) +', '\n",
    "print('tracks on album with playcount: ',string)\n",
    "print('album keys',r.json()['data'].keys())\n",
    "print('track keys',tracks[0].keys())\n"
   ]
  },
  {
   "cell_type": "code",
   "execution_count": 7,
   "metadata": {},
   "outputs": [
    {
     "name": "stdout",
     "output_type": "stream",
     "text": [
      "Christian Löffler\n",
      "top tracks ['Ronda 11383657', 'Unknown Song - Christian Löffler Remix 979837', 'Haul (feat. Mohna) 10179095', 'So Long - Christian Loeffler Remix 4025307', 'Versailles (Hold) - Edit 10593619', 'Haul - Radio Edit 18156832', 'Pastoral 7102248', 'Alpine Sketch 25299574', 'Like Water (feat. Mohna) 10006967', 'Solo - Solomun Remix 168728']\n",
      "related artists ['Recondite', 'Howling', 'Weval', 'Kiasmos', 'Max Cooper', 'Dominik Eulberg', 'Agoria', 'DAVID AUGUST', 'Rone', 'Gidge', 'Kollektiv Turmstrasse', 'HVOB', 'Moderat', 'Stereoclip', 'Rival Consoles', 'Apparat', 'Monkey Safari', 'Pantha Du Prince', 'Pional', 'trentemøller']\n",
      "top level keys - ['uri', 'info', 'header_image', 'top_tracks', 'upcoming_concerts', 'related_artists', 'biography', 'releases', 'gallery', 'latest_release', 'published_playlists', 'monthly_listeners', 'creator_about', 'pinned_item']\n"
     ]
    }
   ],
   "source": [
    "'''' artist info'''\n",
    "artist_id = '3tSvlEzeDnVbQJBTkIA6nO'\n",
    "url = public_url + 'artistInfo?artistid=' + artist_id\n",
    "r = requests.get(url)\n",
    "r = r.json()\n",
    "\n",
    "print(r['data']['info']['name'])\n",
    "top_tracks = list([x['name']+' '+str(x['playcount']) for x in r['data']['top_tracks']['tracks']])\n",
    "related_artists  = list([x['name'] for x in r['data']['related_artists']['artists']])\n",
    "print('top tracks',top_tracks)\n",
    "print('related artists',related_artists)\n",
    "print('top level keys -',list(r['data'].keys()))"
   ]
  },
  {
   "cell_type": "code",
   "execution_count": 36,
   "metadata": {},
   "outputs": [
    {
     "name": "stdout",
     "output_type": "stream",
     "text": [
      "Parallels: Shellac Reworks By Christian Löffler : Parsifal , Moldau , Dir Jehova , Gavotte , Nocturne , Nadir , Pastoral , Fate , Freiyheit , Funebre ,  \n",
      "Lys : Farr , Versailles (Hold) , Weiß , The End (feat. Josephine Philip) , Bergen , Noah , Lys (feat. Menke) , Sun , Ballet (feat. Finn.) , Roth (feat. Mohna) , Map , Für immer ,  \n",
      "Graal (Prologue) : Ry , Running (feat. Josephine Philip) , Bird , Like Water (feat. Mohna) , Refu , Graal ,  \n",
      "Mare Reworks : Mare - Robot Koch Remix , Youth - Aparde Remix , Lid - Zimmer Remix , Vind - Fejká Remix , Haul - Max Cooper Remix , Pigment - Christian Löffler Rework , Haul - Superpoze Remix , Krone - Villette Remix , Vind - Max Cooper Remix , Mare - Avatism Remix , Vind - Parra for Cuva Remix , Lid - Steffen Kirchhoff Remix , Neo - Tiger Lou Remix ,  \n",
      "Mare (Club Mixes) : Mare - Avatism Remix , Vind - Hunter/Game Remix , Lid - Yotto Remix , Pacific - Patlac Remix , Lid - Kris Davis Remix , Pacific - Daniel Höppner Remix ,  \n",
      "Mare : Myiami , Haul (feat. Mohna) , Mosaics , Neo , Youth , Lid , Mare (feat. Mohna) , Athlete , Vind (feat. Mohna) , Silk , Nil , Swim , Krone , Pacific , Pigment , Wilderness (feat. Mohna) , The Great White Open ,  \n",
      "A Forest : A Forest , Pale Skin , Eleven , Ash & Snow , Feelharmonia , Signals , Blind , Eisberg (Hemal) , Field , Swift Code , A Hundred Lights , Slowlight ,  \n"
     ]
    }
   ],
   "source": [
    "''' artist album and tracks listing'''\n",
    "albums = r['data']['releases']\n",
    "full_albums = albums['albums']['releases']\n",
    "for album in full_albums:\n",
    "    print(album['name'],': ', end='')\n",
    "    for track in album['discs'][0]['tracks']:\n",
    "        print(track['name'],', ',end = '')\n",
    "    print(' ')\n"
   ]
  },
  {
   "cell_type": "code",
   "execution_count": 5,
   "metadata": {},
   "outputs": [
    {
     "ename": "TypeError",
     "evalue": "string indices must be integers",
     "output_type": "error",
     "traceback": [
      "\u001b[1;31m---------------------------------------------------------------------------\u001b[0m",
      "\u001b[1;31mTypeError\u001b[0m                                 Traceback (most recent call last)",
      "\u001b[1;32m<ipython-input-5-06839dc13bf8>\u001b[0m in \u001b[0;36m<module>\u001b[1;34m\u001b[0m\n\u001b[0;32m      6\u001b[0m \u001b[1;33m\u001b[0m\u001b[0m\n\u001b[0;32m      7\u001b[0m \u001b[0mdata\u001b[0m \u001b[1;33m=\u001b[0m \u001b[0mr\u001b[0m\u001b[1;33m[\u001b[0m\u001b[1;34m'data'\u001b[0m\u001b[1;33m]\u001b[0m\u001b[1;33m\u001b[0m\u001b[1;33m\u001b[0m\u001b[0m\n\u001b[1;32m----> 8\u001b[1;33m \u001b[0mprint\u001b[0m\u001b[1;33m(\u001b[0m\u001b[0mdata\u001b[0m\u001b[1;33m[\u001b[0m\u001b[1;34m'name'\u001b[0m\u001b[1;33m]\u001b[0m\u001b[1;33m,\u001b[0m\u001b[1;34m'monthly listeners:'\u001b[0m\u001b[1;33m,\u001b[0m\u001b[0mdata\u001b[0m\u001b[1;33m[\u001b[0m\u001b[1;34m'monthlyListeners'\u001b[0m\u001b[1;33m]\u001b[0m\u001b[1;33m,\u001b[0m\u001b[1;34m', followers:'\u001b[0m\u001b[1;33m,\u001b[0m\u001b[0mdata\u001b[0m\u001b[1;33m[\u001b[0m\u001b[1;34m'followerCount'\u001b[0m\u001b[1;33m]\u001b[0m\u001b[1;33m)\u001b[0m\u001b[1;33m\u001b[0m\u001b[1;33m\u001b[0m\u001b[0m\n\u001b[0m\u001b[0;32m      9\u001b[0m \u001b[0mplaylists\u001b[0m \u001b[1;33m=\u001b[0m \u001b[0mlist\u001b[0m\u001b[1;33m(\u001b[0m\u001b[0mx\u001b[0m\u001b[1;33m[\u001b[0m\u001b[1;34m'name'\u001b[0m\u001b[1;33m]\u001b[0m \u001b[1;32mfor\u001b[0m \u001b[0mx\u001b[0m \u001b[1;32min\u001b[0m \u001b[0mdata\u001b[0m\u001b[1;33m[\u001b[0m\u001b[1;34m'playlists'\u001b[0m\u001b[1;33m]\u001b[0m\u001b[1;33m[\u001b[0m\u001b[1;34m'entries'\u001b[0m\u001b[1;33m]\u001b[0m\u001b[1;33m)\u001b[0m\u001b[1;33m\u001b[0m\u001b[1;33m\u001b[0m\u001b[0m\n\u001b[0;32m     10\u001b[0m \u001b[0mprint\u001b[0m\u001b[1;33m(\u001b[0m\u001b[1;34m'playlists'\u001b[0m\u001b[1;33m,\u001b[0m\u001b[0mplaylists\u001b[0m\u001b[1;33m)\u001b[0m\u001b[1;33m\u001b[0m\u001b[1;33m\u001b[0m\u001b[0m\n",
      "\u001b[1;31mTypeError\u001b[0m: string indices must be integers"
     ]
    }
   ],
   "source": [
    "''' artist insight '''\n",
    "artist_id = '3tSvlEzeDnVbQJBTkIA6nO'\n",
    "url = public_url + 'artistInsights?artistid=' + artist_id\n",
    "r = requests.get(url)\n",
    "r = r.json()\n",
    "\n",
    "data = r['data']\n",
    "print(data['name'],'monthly listeners:',data['monthlyListeners'],', followers:',data['followerCount'])\n",
    "playlists = list(x['name'] for x in data['playlists']['entries'])\n",
    "print('playlists',playlists)\n",
    "print('top level keys',list(r['data'].keys()))\n"
   ]
  }
 ],
 "metadata": {
  "kernelspec": {
   "display_name": "Python 3.7.1 64-bit",
   "language": "python",
   "name": "python3"
  },
  "language_info": {
   "codemirror_mode": {
    "name": "ipython",
    "version": 3
   },
   "file_extension": ".py",
   "mimetype": "text/x-python",
   "name": "python",
   "nbconvert_exporter": "python",
   "pygments_lexer": "ipython3",
   "version": "3.7.1"
  },
  "orig_nbformat": 4,
  "vscode": {
   "interpreter": {
    "hash": "e0d18222694ae8738dd36c3cc4ba4170ae1f6ee1d532a92ed91acf6f8484f87f"
   }
  }
 },
 "nbformat": 4,
 "nbformat_minor": 2
}
