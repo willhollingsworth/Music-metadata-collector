{
 "cells": [
  {
   "cell_type": "code",
   "execution_count": 1,
   "metadata": {},
   "outputs": [],
   "source": [
    "from utils import fix_path, build_list_table, build_dict_table\n",
    "fix_path()\n",
    "import mmc"
   ]
  },
  {
   "cell_type": "markdown",
   "metadata": {},
   "source": [
    "### Tracks to be searched"
   ]
  },
  {
   "cell_type": "code",
   "execution_count": 2,
   "metadata": {},
   "outputs": [
    {
     "data": {
      "text/markdown": [
       "| Track | Artist |\n",
       "| ----- | ------ |\n",
       "| Safe | monkey safari |\n",
       "| These things will come to be | DJ Seinfeld |\n"
      ],
      "text/plain": [
       "<IPython.core.display.Markdown object>"
      ]
     },
     "execution_count": 2,
     "metadata": {},
     "output_type": "execute_result"
    }
   ],
   "source": [
    "track_names = [\n",
    "    [\"Safe\", \"monkey safari\"],\n",
    "    [\"These things will come to be\", \"DJ Seinfeld\"],\n",
    "]\n",
    "headers = [\"Track\", \"Artist\"]\n",
    "build_list_table(track_names, headers)"
   ]
  },
  {
   "cell_type": "markdown",
   "metadata": {},
   "source": [
    "### Deezer"
   ]
  },
  {
   "cell_type": "code",
   "execution_count": 6,
   "metadata": {},
   "outputs": [
    {
     "data": {
      "text/markdown": [
       "| track_name | track_id | artist_name | artist_id | album_name | album_id |\n",
       "| ---------- | -------- | ----------- | --------- | ---------- | -------- |\n",
       "| Safe | 951764442 | Monkey Safari | 1047915 | Safe | 146453642 |\n",
       "| These Things Will Come To Be | 1399386272 | DJ Seinfeld | 11527131 | Mirrors | 236234572 |\n"
      ],
      "text/plain": [
       "<IPython.core.display.Markdown object>"
      ]
     },
     "execution_count": 6,
     "metadata": {},
     "output_type": "execute_result"
    }
   ],
   "source": [
    "deezer_tracks = [mmc.deezer_search(\"track\", [*track_args]) for track_args in track_names]\n",
    "tracks_dict = [vars(track) for track in deezer_tracks]\n",
    "build_dict_table(tracks_dict)"
   ]
  },
  {
   "cell_type": "markdown",
   "metadata": {},
   "source": [
    "### Spotify"
   ]
  },
  {
   "cell_type": "code",
   "execution_count": 8,
   "metadata": {},
   "outputs": [
    {
     "data": {
      "text/markdown": [
       "| track_name | track_id | artist_name | artist_id | album_name | album_id |\n",
       "| ---------- | -------- | ----------- | --------- | ---------- | -------- |\n",
       "| Safe | 951764442 | Monkey Safari | 1047915 | Safe | 146453642 |\n",
       "| These Things Will Come To Be | 1399386272 | DJ Seinfeld | 11527131 | Mirrors | 236234572 |\n"
      ],
      "text/plain": [
       "<IPython.core.display.Markdown object>"
      ]
     },
     "execution_count": 8,
     "metadata": {},
     "output_type": "execute_result"
    }
   ],
   "source": [
    "spotify_tracks = [mmc.spotify_search(\"track\", [*track_args]) for track_args in track_names]\n",
    "tracks_dict = [vars(track) for track in deezer_tracks]\n",
    "build_dict_table(tracks_dict)"
   ]
  }
 ],
 "metadata": {
  "kernelspec": {
   "display_name": "music-metadata-collector",
   "language": "python",
   "name": "python3"
  },
  "language_info": {
   "codemirror_mode": {
    "name": "ipython",
    "version": 3
   },
   "file_extension": ".py",
   "mimetype": "text/x-python",
   "name": "python",
   "nbconvert_exporter": "python",
   "pygments_lexer": "ipython3",
   "version": "3.13.4"
  }
 },
 "nbformat": 4,
 "nbformat_minor": 2
}
