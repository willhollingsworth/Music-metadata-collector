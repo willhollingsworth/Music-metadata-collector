{
 "cells": [
  {
   "cell_type": "code",
   "execution_count": 4,
   "metadata": {},
   "outputs": [],
   "source": [
    "from utils import fix_path, build_list_table, build_dict_table\n",
    "fix_path()\n",
    "import mmc.services.deezer.searches as deezer  # noqa: E402"
   ]
  },
  {
   "cell_type": "markdown",
   "metadata": {},
   "source": [
    "### Tracks to be searched"
   ]
  },
  {
   "cell_type": "code",
   "execution_count": 5,
   "metadata": {},
   "outputs": [
    {
     "data": {
      "text/markdown": [
       "| Track | Artist |\n",
       "| ----- | ------ |\n",
       "| Safe | monkey safari |\n",
       "| These things will come to be | DJ Seinfeld |\n"
      ],
      "text/plain": [
       "<IPython.core.display.Markdown object>"
      ]
     },
     "execution_count": 5,
     "metadata": {},
     "output_type": "execute_result"
    }
   ],
   "source": [
    "track_names = [\n",
    "    [\"Safe\", \"monkey safari\"],\n",
    "    [\"These things will come to be\", \"DJ Seinfeld\"],\n",
    "]\n",
    "headers = [\"Track\", \"Artist\"]\n",
    "build_list_table(track_names, headers)"
   ]
  },
  {
   "cell_type": "markdown",
   "metadata": {},
   "source": [
    "### Deezer"
   ]
  },
  {
   "cell_type": "code",
   "execution_count": 6,
   "metadata": {},
   "outputs": [
    {
     "data": {
      "text/markdown": [
       "| track_name | track_id | artist_name | artist_id | album_name | album_id |\n",
       "| ---------- | -------- | ----------- | --------- | ---------- | -------- |\n",
       "| Safe | 951764442 | Monkey Safari | 1047915 | Safe | 146453642 |\n",
       "| These Things Will Come To Be | 1411767462 | DJ Seinfeld | 11527131 | These Things Will Come To Be | 239106862 |\n"
      ],
      "text/plain": [
       "<IPython.core.display.Markdown object>"
      ]
     },
     "execution_count": 6,
     "metadata": {},
     "output_type": "execute_result"
    }
   ],
   "source": [
    "tracks = [vars(deezer.search(\"track\", [*track])) for track in track_names]\n",
    "build_dict_table(tracks)"
   ]
  }
 ],
 "metadata": {
  "kernelspec": {
   "display_name": "music-metadata-collector",
   "language": "python",
   "name": "python3"
  },
  "language_info": {
   "codemirror_mode": {
    "name": "ipython",
    "version": 3
   },
   "file_extension": ".py",
   "mimetype": "text/x-python",
   "name": "python",
   "nbconvert_exporter": "python",
   "pygments_lexer": "ipython3",
   "version": "3.13.4"
  }
 },
 "nbformat": 4,
 "nbformat_minor": 2
}
