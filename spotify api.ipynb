{
 "cells": [
  {
   "cell_type": "code",
   "execution_count": 65,
   "metadata": {},
   "outputs": [],
   "source": [
    "import json\n",
    "import requests\n",
    "'''' load credentials via json'''\n",
    "with open('credentials.json', 'r') as r:\n",
    "    credentials = json.load(r)\n",
    "\n",
    "''' generate auth token and headers'''\n",
    "AUTH_URL = 'https://accounts.spotify.com/api/token'\n",
    "# POST\n",
    "auth_response = requests.post(AUTH_URL, {\n",
    "    'grant_type': 'client_credentials',\n",
    "    'client_id': credentials['client_id'],\n",
    "    'client_secret': credentials['client_secret'],\n",
    "})\n",
    "\n",
    "# convert the response to JSON\n",
    "auth_response_data = auth_response.json()\n",
    "\n",
    "# save the access token\n",
    "access_token = auth_response_data['access_token']\n",
    "\n",
    "# generate header\n",
    "headers = {\n",
    "    'Authorization': 'Bearer {token}'.format(token=access_token)\n",
    "}\n",
    "BASE_URL = 'https://api.spotify.com/v1/'\n"
   ]
  },
  {
   "cell_type": "code",
   "execution_count": 66,
   "metadata": {},
   "outputs": [
    {
     "name": "stdout",
     "output_type": "stream",
     "text": [
      "keys ['external_urls', 'followers', 'genres', 'href', 'id', 'images', 'name', 'popularity', 'type', 'uri']\n",
      "Christian Löffler 227889 ['electronica', 'hamburg electronic', 'minimal techno', 'new french touch', 'organic electronic', 'pop ambient']\n"
     ]
    }
   ],
   "source": [
    "'''https://developer.spotify.com/documentation/web-api/reference/#/operations/get-an-artist'''\n",
    "artist_id = '3tSvlEzeDnVbQJBTkIA6nO'\n",
    "r = requests.get(BASE_URL + 'artists/' + artist_id, headers=headers)\n",
    "r = r.json()\n",
    "print('keys',list(r.keys()))\n",
    "print(r['name'],r['followers']['total'],r['genres'])"
   ]
  },
  {
   "cell_type": "code",
   "execution_count": 67,
   "metadata": {},
   "outputs": [
    {
     "name": "stdout",
     "output_type": "stream",
     "text": [
      "keys ['album', 'artists', 'available_markets', 'disc_number', 'duration_ms', 'explicit', 'external_ids', 'external_urls', 'href', 'id', 'is_local', 'name', 'popularity', 'preview_url', 'track_number', 'type', 'uri']\n",
      "Mt. Grace - Christian Löffler 38\n"
     ]
    }
   ],
   "source": [
    "'''https://developer.spotify.com/documentation/web-api/reference/#/operations/get-track'''\n",
    "track_id = '6xZZM6GDxTKsLjF3TNDREL'\n",
    "r = requests.get(BASE_URL + 'tracks/' + track_id, headers=headers)\n",
    "r = r.json()\n",
    "print('keys',list(r.keys()))\n",
    "print(r['name'],'-',r['artists'][0]['name'],r['popularity'])"
   ]
  },
  {
   "cell_type": "code",
   "execution_count": 73,
   "metadata": {},
   "outputs": [
    {
     "name": "stdout",
     "output_type": "stream",
     "text": [
      "https://api.spotify.com/v1/search?type=artist&q=artist:pendulum\n",
      "search result count 20\n",
      "keys for first result dict_keys(['external_urls', 'followers', 'genres', 'href', 'id', 'images', 'name', 'popularity', 'type', 'uri'])\n",
      "show first 5 results - columns: name,followers,popularity,genres\n",
      "Pendulum 880789 60 ['australian dance', 'dancefloor dnb', 'drum and bass']\n",
      "Gaias Pendulum 3166 16 ['metal colombiano', 'metal gotico']\n",
      "Pendulum10sound 1 0 []\n",
      "Pendulum 2 0 []\n",
      "Pendulum10sound 1 0 []\n"
     ]
    }
   ],
   "source": [
    "''' https://developer.spotify.com/documentation/web-api/reference/#/operations/search '''\n",
    "# example artist lookup string\n",
    "search_string = 'artist:pendulum'\n",
    "url = BASE_URL + 'search?type=artist&q=' + search_string\n",
    "print(url)\n",
    "r = requests.get(url, headers=headers)\n",
    "r = r.json()\n",
    "print('search result count',len(r['artists']['items']))\n",
    "print('keys for first result',r['artists']['items'][0].keys())\n",
    "print('show first 5 results - columns: name,followers,popularity,genres')\n",
    "for x in r['artists']['items'][:5]:\n",
    "    print(x['name'],x['followers']['total'],x['popularity'],x['genres'])\n"
   ]
  }
 ],
 "metadata": {
  "kernelspec": {
   "display_name": "Python 3.7.1 64-bit",
   "language": "python",
   "name": "python3"
  },
  "language_info": {
   "codemirror_mode": {
    "name": "ipython",
    "version": 3
   },
   "file_extension": ".py",
   "mimetype": "text/x-python",
   "name": "python",
   "nbconvert_exporter": "python",
   "pygments_lexer": "ipython3",
   "version": "3.7.1"
  },
  "orig_nbformat": 4,
  "vscode": {
   "interpreter": {
    "hash": "e0d18222694ae8738dd36c3cc4ba4170ae1f6ee1d532a92ed91acf6f8484f87f"
   }
  }
 },
 "nbformat": 4,
 "nbformat_minor": 2
}
