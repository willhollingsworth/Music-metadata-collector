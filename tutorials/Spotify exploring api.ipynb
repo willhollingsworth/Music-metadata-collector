{
 "cells": [
  {
   "cell_type": "code",
   "execution_count": 14,
   "metadata": {},
   "outputs": [],
   "source": [
    "'''https://stmorse.github.io/journal/spotify-api.html'''\n",
    "\n",
    "import json\n",
    "import requests"
   ]
  },
  {
   "cell_type": "code",
   "execution_count": 15,
   "metadata": {},
   "outputs": [],
   "source": [
    "'''' load credentials via json'''\n",
    "with open('credentials.json', 'r') as r:\n",
    "    credentials = json.load(r)"
   ]
  },
  {
   "cell_type": "code",
   "execution_count": 16,
   "metadata": {},
   "outputs": [],
   "source": [
    "''' generate auth token and headers'''\n",
    "AUTH_URL = 'https://accounts.spotify.com/api/token'\n",
    "# POST\n",
    "auth_response = requests.post(AUTH_URL, {\n",
    "    'grant_type': 'client_credentials',\n",
    "    'client_id': credentials['client_id'],\n",
    "    'client_secret': credentials['client_secret'],\n",
    "})\n",
    "\n",
    "# convert the response to JSON\n",
    "auth_response_data = auth_response.json()\n",
    "\n",
    "# save the access token\n",
    "access_token = auth_response_data['access_token']\n",
    "\n",
    "# generate header\n",
    "headers = {\n",
    "    'Authorization': 'Bearer {token}'.format(token=access_token)\n",
    "}"
   ]
  },
  {
   "cell_type": "code",
   "execution_count": 19,
   "metadata": {},
   "outputs": [
    {
     "data": {
      "text/plain": [
       "{'danceability': 0.54,\n",
       " 'energy': 0.59,\n",
       " 'key': 0,\n",
       " 'loudness': -4.359,\n",
       " 'mode': 1,\n",
       " 'speechiness': 0.0528,\n",
       " 'acousticness': 0.446,\n",
       " 'instrumentalness': 0,\n",
       " 'liveness': 0.14,\n",
       " 'valence': 0.267,\n",
       " 'tempo': 119.878,\n",
       " 'type': 'audio_features',\n",
       " 'id': '6y0igZArWVi6Iz0rj35c1Y',\n",
       " 'uri': 'spotify:track:6y0igZArWVi6Iz0rj35c1Y',\n",
       " 'track_href': 'https://api.spotify.com/v1/tracks/6y0igZArWVi6Iz0rj35c1Y',\n",
       " 'analysis_url': 'https://api.spotify.com/v1/audio-analysis/6y0igZArWVi6Iz0rj35c1Y',\n",
       " 'duration_ms': 234910,\n",
       " 'time_signature': 4}"
      ]
     },
     "execution_count": 19,
     "metadata": {},
     "output_type": "execute_result"
    }
   ],
   "source": [
    "# base URL of all Spotify API endpoints\n",
    "BASE_URL = 'https://api.spotify.com/v1/'\n",
    "# Track ID from the URI\n",
    "track_id = '6y0igZArWVi6Iz0rj35c1Y'\n",
    "# actual GET request with proper header\n",
    "r = requests.get(BASE_URL + 'audio-features/' + track_id, headers=headers)\n",
    "r.json()"
   ]
  },
  {
   "cell_type": "code",
   "execution_count": 22,
   "metadata": {},
   "outputs": [
    {
     "data": {
      "text/plain": [
       "dict"
      ]
     },
     "execution_count": 22,
     "metadata": {},
     "output_type": "execute_result"
    }
   ],
   "source": [
    "artist_id = '36QJpDe2go2KgaRleHCDTp'\n",
    "\n",
    "# pull all artists albums\n",
    "r = requests.get(BASE_URL + 'artists/' + artist_id + '/albums', \n",
    "                 headers=headers, \n",
    "                 params={'include_groups': 'album', 'limit': 50})\n",
    "d = r.json()"
   ]
  },
  {
   "cell_type": "code",
   "execution_count": 41,
   "metadata": {},
   "outputs": [
    {
     "name": "stdout",
     "output_type": "stream",
     "text": [
      "dict_keys(['href', 'items', 'limit', 'next', 'offset', 'previous', 'total'])\n"
     ]
    },
    {
     "data": {
      "text/plain": [
       "dict_keys(['album_group', 'album_type', 'artists', 'available_markets', 'external_urls', 'href', 'id', 'images', 'name', 'release_date', 'release_date_precision', 'total_tracks', 'type', 'uri'])"
      ]
     },
     "execution_count": 41,
     "metadata": {},
     "output_type": "execute_result"
    }
   ],
   "source": [
    "print(d.keys())\n",
    "d['items'][0].keys()\n",
    "# type(d['items'][0])\n",
    "# d"
   ]
  },
  {
   "cell_type": "code",
   "execution_count": 42,
   "metadata": {},
   "outputs": [
    {
     "name": "stdout",
     "output_type": "stream",
     "text": [
      "Coda (Deluxe Edition)\n",
      "In Through the out Door (Deluxe Edition)\n",
      "The Song Remains the Same (Remaster)\n",
      "Presence (Deluxe Edition)\n",
      "Physical Graffiti (1994 Remaster)\n",
      "Houses of the Holy (Deluxe Edition)\n",
      "Led Zeppelin IV (Deluxe Edition)\n",
      "Led Zeppelin III (Deluxe Edition)\n",
      "Led Zeppelin II (Deluxe Edition)\n",
      "Led Zeppelin (Deluxe Edition)\n"
     ]
    }
   ],
   "source": [
    "data = []   # will hold all track info\n",
    "albums = [] # to keep track of duplicates\n",
    "\n",
    "# loop over albums and get all tracks\n",
    "for album in d['items']:\n",
    "    album_name = album['name']\n",
    "\n",
    "    # here's a hacky way to skip over albums we've already grabbed\n",
    "    trim_name = album_name.split('(')[0].strip()\n",
    "    if trim_name.upper() in albums or int(album['release_date'][:4]) > 1983:\n",
    "        continue\n",
    "    albums.append(trim_name.upper()) # use upper() to standardize\n",
    "    \n",
    "    # this takes a few seconds so let's keep track of progress    \n",
    "    print(album_name)\n",
    "    \n",
    "    # pull all tracks from this album\n",
    "    r = requests.get(BASE_URL + 'albums/' + album['id'] + '/tracks', \n",
    "        headers=headers)\n",
    "    tracks = r.json()['items']\n",
    "    \n",
    "    for track in tracks:\n",
    "        # get audio features (key, liveness, danceability, ...)\n",
    "        f = requests.get(BASE_URL + 'audio-features/' + track['id'], \n",
    "            headers=headers)\n",
    "        f = f.json()\n",
    "        \n",
    "        # combine with album info\n",
    "        f.update({\n",
    "            'track_name': track['name'],\n",
    "            'album_name': album_name,\n",
    "            'short_album_name': trim_name,\n",
    "            'release_date': album['release_date'],\n",
    "            'album_id': album['id']\n",
    "        })\n",
    "        \n",
    "        data.append(f)"
   ]
  },
  {
   "cell_type": "code",
   "execution_count": 49,
   "metadata": {},
   "outputs": [
    {
     "data": {
      "text/plain": [
       "dict_keys(['danceability', 'energy', 'key', 'loudness', 'mode', 'speechiness', 'acousticness', 'instrumentalness', 'liveness', 'valence', 'tempo', 'type', 'id', 'uri', 'track_href', 'analysis_url', 'duration_ms', 'time_signature', 'track_name', 'album_name', 'short_album_name', 'release_date', 'album_id'])"
      ]
     },
     "execution_count": 49,
     "metadata": {},
     "output_type": "execute_result"
    }
   ],
   "source": [
    "data[0].keys()"
   ]
  },
  {
   "cell_type": "code",
   "execution_count": 50,
   "metadata": {},
   "outputs": [
    {
     "name": "stdout",
     "output_type": "stream",
     "text": [
      "We're Gonna Groove - Remaster Coda (Deluxe Edition)\n",
      "Poor Tom - Remaster Coda (Deluxe Edition)\n",
      "I Can't Quit You Baby - Remaster Coda (Deluxe Edition)\n",
      "Walter's Walk - Remaster Coda (Deluxe Edition)\n",
      "Ozone Baby - Remaster Coda (Deluxe Edition)\n",
      "Darlene - Remaster Coda (Deluxe Edition)\n",
      "Bonzo's Montreux - Remaster Coda (Deluxe Edition)\n",
      "Wearing and Tearing - Remaster Coda (Deluxe Edition)\n",
      "We're Gonna Groove - Alternate Mix Coda (Deluxe Edition)\n",
      "If It Keeps on Raining - Rough Mix Coda (Deluxe Edition)\n",
      "Bonzo's Montreux - Mix Construction in Progress Coda (Deluxe Edition)\n",
      "Baby Come on Home - Remastered Coda (Deluxe Edition)\n",
      "Sugar Mama - Mix Coda (Deluxe Edition)\n",
      "Poor Tom - Instrumental Mix Coda (Deluxe Edition)\n",
      "Travelling Riverside Blues (BBC Session) - Remastered Coda (Deluxe Edition)\n",
      "Hey, Hey, What Can I Do - Remaster Coda (Deluxe Edition)\n",
      "Four Hands (Four Sticks) [Bombay Orchestra] Coda (Deluxe Edition)\n",
      "Friends (Bombay Orchestra) Coda (Deluxe Edition)\n",
      "St. Tristan's Sword - Rough Mix Coda (Deluxe Edition)\n",
      "Desire (The Wanton Song) - Rough Mix Coda (Deluxe Edition)\n",
      "In the Evening - Remaster In Through the out Door (Deluxe Edition)\n",
      "South Bound Saurez - Remaster In Through the out Door (Deluxe Edition)\n",
      "Fool in the Rain - Remaster In Through the out Door (Deluxe Edition)\n",
      "Hot Dog - Remaster In Through the out Door (Deluxe Edition)\n",
      "Carouselambra - Remaster In Through the out Door (Deluxe Edition)\n",
      "All My Love - Remaster In Through the out Door (Deluxe Edition)\n",
      "I'm Gonna Crawl - Remaster In Through the out Door (Deluxe Edition)\n",
      "In the Evening - Rough Mix In Through the out Door (Deluxe Edition)\n",
      "Southbound Piano (South Bound Saurez) - Rough Mix In Through the out Door (Deluxe Edition)\n",
      "Fool in the Rain - Rough Mix In Through the out Door (Deluxe Edition)\n",
      "Hot Dog - Rough Mix In Through the out Door (Deluxe Edition)\n",
      "The Epic (Carouselambra) - Rough Mix In Through the out Door (Deluxe Edition)\n",
      "The Hook (All My Love) - Rough Mix In Through the out Door (Deluxe Edition)\n",
      "Blot (I'm Gonna Crawl) - Rough Mix In Through the out Door (Deluxe Edition)\n",
      "Rock and Roll - (Live at MSG 1973) [Remaster] The Song Remains the Same (Remaster)\n",
      "Celebration Day - (Live at MSG 1973) [Remaster] The Song Remains the Same (Remaster)\n",
      "Black Dog - (Live at MSG 1973) [Remaster] The Song Remains the Same (Remaster)\n",
      "Over the Hills and Far Away - (Live at MSG 1973) [Remaster] The Song Remains the Same (Remaster)\n",
      "Misty Mountain Hop - (Live at MSG 1973) [Remaster] The Song Remains the Same (Remaster)\n",
      "Since I've Been Loving You - (Live at MSG 1973) [Remaster] The Song Remains the Same (Remaster)\n",
      "No Quarter - (Live at MSG 1973) [Remaster] The Song Remains the Same (Remaster)\n",
      "The Song Remains the Same - (Live at MSG 1973) [Remaster] The Song Remains the Same (Remaster)\n",
      "The Rain Song - (Live at MSG 1973) [Remaster] The Song Remains the Same (Remaster)\n",
      "The Ocean (Live at MSG 1973) - Remaster The Song Remains the Same (Remaster)\n",
      "Dazed and Confused - (Live at MSG 1973) [Remaster] The Song Remains the Same (Remaster)\n",
      "Stairway to Heaven - (Live at MSG 1973) [Remaster] The Song Remains the Same (Remaster)\n",
      "Moby Dick - (Live at MSG 1973) [Remaster] The Song Remains the Same (Remaster)\n",
      "Heartbreaker - (Live at MSG 1973) [Remaster] The Song Remains the Same (Remaster)\n",
      "Whole Lotta Love - (Live at MSG 1973) [Remaster] The Song Remains the Same (Remaster)\n",
      "Achilles Last Stand - Remaster Presence (Deluxe Edition)\n",
      "For Your Life - Remaster Presence (Deluxe Edition)\n",
      "Royal Orleans - Remaster Presence (Deluxe Edition)\n",
      "Nobody's Fault but Mine - Remaster Presence (Deluxe Edition)\n",
      "Candy Store Rock - Remaster Presence (Deluxe Edition)\n",
      "Hots on for Nowhere - Remaster Presence (Deluxe Edition)\n",
      "Tea for One - Remaster Presence (Deluxe Edition)\n",
      "Two Ones Are Won - Achilles Last Stand Reference Mix Presence (Deluxe Edition)\n",
      "For Your Life - Reference Mix Presence (Deluxe Edition)\n",
      "10 Ribs & All / Carrot Pod Pod (Pod) - Reference Mix Presence (Deluxe Edition)\n",
      "Royal Orleans - Reference Mix Presence (Deluxe Edition)\n",
      "Hots on for Nowhere - Reference Mix Presence (Deluxe Edition)\n",
      "Custard Pie - 1990 Remaster Physical Graffiti (1994 Remaster)\n",
      "The Rover - 1993 Remaster Physical Graffiti (1994 Remaster)\n",
      "In My Time of Dying - 1990 Remaster Physical Graffiti (1994 Remaster)\n",
      "Houses of the Holy - 1990 Remaster Physical Graffiti (1994 Remaster)\n",
      "Trampled Under Foot - 1990 Remaster Physical Graffiti (1994 Remaster)\n",
      "Kashmir - 1990 Remaster Physical Graffiti (1994 Remaster)\n",
      "In the Light - 1990 Remaster Physical Graffiti (1994 Remaster)\n",
      "Bron-Yr-Aur - 1993 Remaster Physical Graffiti (1994 Remaster)\n",
      "Down by the Seaside - 1993 Remaster Physical Graffiti (1994 Remaster)\n",
      "Ten Years Gone - 1990 Remaster Physical Graffiti (1994 Remaster)\n",
      "Night Flight - 1993 Remaster Physical Graffiti (1994 Remaster)\n",
      "The Wanton Song - 1990 Remaster Physical Graffiti (1994 Remaster)\n",
      "Boogie with Stu - 1993 Remaster Physical Graffiti (1994 Remaster)\n",
      "Black Country Woman - 1993 Remaster Physical Graffiti (1994 Remaster)\n",
      "Sick Again - 1993 Remaster Physical Graffiti (1994 Remaster)\n",
      "The Song Remains the Same - Remaster Houses of the Holy (Deluxe Edition)\n",
      "The Rain Song - Remaster Houses of the Holy (Deluxe Edition)\n",
      "Over the Hills and Far Away - Remaster Houses of the Holy (Deluxe Edition)\n",
      "The Crunge - Remaster Houses of the Holy (Deluxe Edition)\n",
      "Dancing Days - Remaster Houses of the Holy (Deluxe Edition)\n",
      "D'yer Mak'er - Remaster Houses of the Holy (Deluxe Edition)\n",
      "No Quarter - Remaster Houses of the Holy (Deluxe Edition)\n",
      "The Ocean - Remaster Houses of the Holy (Deluxe Edition)\n",
      "The Song Remains the Same - Guitar Overdub Reference Mix Houses of the Holy (Deluxe Edition)\n",
      "The Rain Song - Mix Minus Piano Houses of the Holy (Deluxe Edition)\n",
      "Over the Hills and Far Away - Guitar Mix Backing Track Houses of the Holy (Deluxe Edition)\n",
      "The Crunge - Rough Mix - Keys Up Houses of the Holy (Deluxe Edition)\n",
      "Dancing Days - Rough Mix with Vocal Houses of the Holy (Deluxe Edition)\n",
      "No Quarter - Rough Mix with JPJ Keyboard Overdubs - No Vocal Houses of the Holy (Deluxe Edition)\n",
      "The Ocean - Working Mix Houses of the Holy (Deluxe Edition)\n",
      "Black Dog - Remaster Led Zeppelin IV (Deluxe Edition)\n",
      "Rock and Roll - Remaster Led Zeppelin IV (Deluxe Edition)\n",
      "The Battle of Evermore - Remaster Led Zeppelin IV (Deluxe Edition)\n",
      "Stairway to Heaven - Remaster Led Zeppelin IV (Deluxe Edition)\n",
      "Misty Mountain Hop - Remaster Led Zeppelin IV (Deluxe Edition)\n",
      "Four Sticks - Remaster Led Zeppelin IV (Deluxe Edition)\n",
      "Going to California - Remaster Led Zeppelin IV (Deluxe Edition)\n",
      "When the Levee Breaks - Remaster Led Zeppelin IV (Deluxe Edition)\n",
      "Black Dog - Basic Track with Guitar Overdubs Led Zeppelin IV (Deluxe Edition)\n",
      "Rock and Roll - Alternate Mix Led Zeppelin IV (Deluxe Edition)\n",
      "The Battle of Evermore - Mandolin / Guitar Mix from Headley Grange Led Zeppelin IV (Deluxe Edition)\n",
      "Stairway to Heaven - Sunset Sound Mix Led Zeppelin IV (Deluxe Edition)\n",
      "Misty Mountain Hop - Alternate Mix Led Zeppelin IV (Deluxe Edition)\n",
      "Four Sticks - Alternate Mix Led Zeppelin IV (Deluxe Edition)\n",
      "Going to California - Mandolin / Guitar Mix Led Zeppelin IV (Deluxe Edition)\n",
      "When the Levee Breaks - Alternate UK Mix in Progress Led Zeppelin IV (Deluxe Edition)\n",
      "Immigrant Song - Remaster Led Zeppelin III (Deluxe Edition)\n",
      "Friends - Remaster Led Zeppelin III (Deluxe Edition)\n",
      "Celebration Day - Remaster Led Zeppelin III (Deluxe Edition)\n",
      "Since I've Been Loving You - Remaster Led Zeppelin III (Deluxe Edition)\n",
      "Out on the Tiles - Remaster Led Zeppelin III (Deluxe Edition)\n",
      "Gallows Pole - Remaster Led Zeppelin III (Deluxe Edition)\n",
      "Tangerine - Remaster Led Zeppelin III (Deluxe Edition)\n",
      "That's the Way - Remaster Led Zeppelin III (Deluxe Edition)\n",
      "Bron-Y-Aur Stomp - Remaster Led Zeppelin III (Deluxe Edition)\n",
      "Hats off To (Roy) Harper - Remaster Led Zeppelin III (Deluxe Edition)\n",
      "The Immigrant Song - Alternate Mix Led Zeppelin III (Deluxe Edition)\n",
      "Friends - Track - No Vocal Led Zeppelin III (Deluxe Edition)\n",
      "Celebration Day - Alternate Mix Led Zeppelin III (Deluxe Edition)\n",
      "Since I've Been Loving You - Rough Mix Led Zeppelin III (Deluxe Edition)\n",
      "Bathroom Sound - Track - No Vocal Led Zeppelin III (Deluxe Edition)\n",
      "Gallows Pole - Rough Mix Led Zeppelin III (Deluxe Edition)\n",
      "That's the Way - Rough Mix Led Zeppelin III (Deluxe Edition)\n",
      "Jennings Farm Blues - Rough Mix Led Zeppelin III (Deluxe Edition)\n",
      "Key to the Highway / Trouble in Mind - Rough Mix Led Zeppelin III (Deluxe Edition)\n",
      "Whole Lotta Love - Remaster Led Zeppelin II (Deluxe Edition)\n",
      "What Is and What Should Never Be - Remaster Led Zeppelin II (Deluxe Edition)\n",
      "The Lemon Song - Remaster Led Zeppelin II (Deluxe Edition)\n",
      "Thank You - Remaster Led Zeppelin II (Deluxe Edition)\n",
      "Heartbreaker - Remaster Led Zeppelin II (Deluxe Edition)\n",
      "Living Loving Maid (She's Just a Woman) - Remaster Led Zeppelin II (Deluxe Edition)\n",
      "Ramble On - Remaster Led Zeppelin II (Deluxe Edition)\n",
      "Moby Dick - Remaster Led Zeppelin II (Deluxe Edition)\n",
      "Bring It on Home - Remaster Led Zeppelin II (Deluxe Edition)\n",
      "Whole Lotta Love - Rough Mix with Vocal Led Zeppelin II (Deluxe Edition)\n",
      "What Is and What Should Never Be - Rough Mix with Vocal Led Zeppelin II (Deluxe Edition)\n",
      "Thank You - Backing Track Led Zeppelin II (Deluxe Edition)\n",
      "Heartbreaker - Rough Mix with Vocal Led Zeppelin II (Deluxe Edition)\n",
      "Living Loving Maid (She's Just a Woman) - Backing Track Led Zeppelin II (Deluxe Edition)\n",
      "Ramble On - Rough Mix with Vocal Led Zeppelin II (Deluxe Edition)\n",
      "Moby Dick - Intro / Outro Rough Mix Led Zeppelin II (Deluxe Edition)\n",
      "La La - Backing Track Led Zeppelin II (Deluxe Edition)\n",
      "Good Times Bad Times - Remaster Led Zeppelin (Deluxe Edition)\n",
      "Babe I'm Gonna Leave You - Remaster Led Zeppelin (Deluxe Edition)\n",
      "You Shook Me - Remaster Led Zeppelin (Deluxe Edition)\n",
      "Dazed and Confused - Remaster Led Zeppelin (Deluxe Edition)\n",
      "Your Time Is Gonna Come - Remaster Led Zeppelin (Deluxe Edition)\n",
      "Black Mountain Side - Remaster Led Zeppelin (Deluxe Edition)\n",
      "Communication Breakdown - Remaster Led Zeppelin (Deluxe Edition)\n",
      "I Can't Quit You Baby - Remaster Led Zeppelin (Deluxe Edition)\n",
      "How Many More Times - Remaster Led Zeppelin (Deluxe Edition)\n",
      "Good Times Bad Times / Communication Breakdown - Live in Paris, 1969 Led Zeppelin (Deluxe Edition)\n",
      "I Can't Quit You Baby - Live in Paris, 1969 Led Zeppelin (Deluxe Edition)\n",
      "Heartbreaker - Live in Paris, 1969 Led Zeppelin (Deluxe Edition)\n",
      "Dazed and Confused - Live in Paris, 1969 Led Zeppelin (Deluxe Edition)\n",
      "White Summer / Black Mountain Side - Live in Paris, 1969 Led Zeppelin (Deluxe Edition)\n",
      "You Shook Me - Live in Paris, 1969 Led Zeppelin (Deluxe Edition)\n",
      "Moby Dick - Live in Paris, 1969 Led Zeppelin (Deluxe Edition)\n",
      "How Many More Times - Live in Paris, 1969 Led Zeppelin (Deluxe Edition)\n"
     ]
    }
   ],
   "source": [
    "for x in data:\n",
    "    print(x['track_name'],x['album_name'])"
   ]
  }
 ],
 "metadata": {
  "kernelspec": {
   "display_name": "Python 3.7.1 64-bit",
   "language": "python",
   "name": "python3"
  },
  "language_info": {
   "codemirror_mode": {
    "name": "ipython",
    "version": 3
   },
   "file_extension": ".py",
   "mimetype": "text/x-python",
   "name": "python",
   "nbconvert_exporter": "python",
   "pygments_lexer": "ipython3",
   "version": "3.7.1"
  },
  "orig_nbformat": 4,
  "vscode": {
   "interpreter": {
    "hash": "e0d18222694ae8738dd36c3cc4ba4170ae1f6ee1d532a92ed91acf6f8484f87f"
   }
  }
 },
 "nbformat": 4,
 "nbformat_minor": 2
}
